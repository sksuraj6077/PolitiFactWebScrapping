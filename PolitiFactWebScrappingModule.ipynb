{
  "nbformat": 4,
  "nbformat_minor": 0,
  "metadata": {
    "colab": {
      "provenance": []
    },
    "kernelspec": {
      "name": "python3",
      "display_name": "Python 3"
    },
    "language_info": {
      "name": "python"
    }
  },
  "cells": [
    {
      "cell_type": "markdown",
      "source": [
        "# **PolitiFact WebScrapping Module**\n",
        "\n"
      ],
      "metadata": {
        "id": "63Z52gNVA1I9"
      }
    },
    {
      "cell_type": "markdown",
      "source": [
        "**ScrapeFunction**"
      ],
      "metadata": {
        "id": "wDVsv249DLFq"
      }
    },
    {
      "cell_type": "code",
      "source": [
        "from bs4 import BeautifulSoup\n",
        "import pandas as pd\n",
        "import requests\n",
        "import urllib.request\n",
        "import time\n",
        "\n",
        "authors = []\n",
        "statements = []\n",
        "targets = []\n",
        "text_1 = []\n",
        "url_1 = []\n",
        "\n",
        "def scrape_website(page_number):\n",
        "  page_num = str(page_number)\n",
        "  URL = 'https://www.politifact.com/factchecks/list/?page={}&'.format(page_num)\n",
        "  webpage = requests.get(URL) \n",
        "  #time.sleep(3)\n",
        "  soup = BeautifulSoup(webpage.text, \"html.parser\") \n",
        "  statement_footer =  soup.find_all('footer',attrs={'class':'m-statement__footer'}) \n",
        "  for i in statement_footer:\n",
        "    link1 = i.text.strip()\n",
        "    name_and_date = link1.split()\n",
        "    full_name = name_and_date[1]+' '+name_and_date[2]\n",
        "    authors.append(full_name)\n",
        "  statement_quote = soup.find_all('div', attrs={'class':'m-statement__quote'})\n",
        "  for i in statement_quote:\n",
        "    for link in i.find_all('a',href=True):\n",
        "      title = i.text.strip()\n",
        "      statements.append(title)\n",
        "      url_1.append(\"https://www.politifact.com\"+link['href'])\n",
        "  for link1 in url_1:\n",
        "    webpage1 = requests.get(link1)\n",
        "    soup1 = BeautifulSoup(webpage1.text, \"html.parser\") \n",
        "    statement_text = soup1.find_all('article',attrs={'m-textblock'})\n",
        "    for k in statement_text:\n",
        "      lines = k.text.strip()\n",
        "      text1= lines.split('\\n')\n",
        "      text2=text1[0:5]\n",
        "      text_1.append(text2)\n",
        "  target = soup.find_all('div', attrs={'class':'m-statement__meter'})  \n",
        "  for i in target:\n",
        "    fact = i.find('div', attrs={'class':'c-image'}).find('img').get('alt')\n",
        "    targets.append(fact)\n",
        "\n"
      ],
      "metadata": {
        "id": "ilEBa_NtA00V"
      },
      "execution_count": 2,
      "outputs": []
    },
    {
      "cell_type": "markdown",
      "source": [
        "# Target Column Convert To 0 And 1 Function"
      ],
      "metadata": {
        "id": "qLPVIiM7DX4_"
      }
    },
    {
      "cell_type": "code",
      "source": [
        "def getBinaryNumTarget(text):\n",
        "    if text == 'true':\n",
        "        return 1\n",
        "    elif text == 'mostly-true':\n",
        "        return 1\n",
        "    else:\n",
        "        return 0"
      ],
      "metadata": {
        "id": "TFFAWpxABhqi"
      },
      "execution_count": 3,
      "outputs": []
    },
    {
      "cell_type": "markdown",
      "source": [
        "# Enter Start Page No And End Page No"
      ],
      "metadata": {
        "id": "7Ypc4QzwD0is"
      }
    },
    {
      "cell_type": "code",
      "source": [
        "df = pd.DataFrame()\n",
        "startpage = int(input(\"enter start page no:\"))\n",
        "endpage = int(input(\"enter end page no:\"))\n",
        "for i in range(startpage,endpage+1):\n",
        "  authors.clear()\n",
        "  statements.clear()\n",
        "  targets.clear()\n",
        "  text_1.clear()\n",
        "  url_1.clear()\n",
        "  scrape_website(i)\n",
        "  data = pd.DataFrame()\n",
        "  data['Title'] = statements\n",
        "  data['Author'] = authors\n",
        "  data['Text'] = text_1\n",
        "  data['Target'] = targets\n",
        "  df=df.append(data,ignore_index=True)\n",
        "df['Label']=df['Target'].apply(getBinaryNumTarget)\n",
        "filename='pageno{}to{}.csv'.format(startpage,endpage)\n",
        "df.to_csv(filename)  "
      ],
      "metadata": {
        "colab": {
          "base_uri": "https://localhost:8080/"
        },
        "id": "aZcSMIT2BQxb",
        "outputId": "81f24167-de46-4757-ae67-4b8353d4df85"
      },
      "execution_count": 4,
      "outputs": [
        {
          "name": "stdout",
          "output_type": "stream",
          "text": [
            "enter start page no:5\n",
            "enter end page no:5\n"
          ]
        }
      ]
    }
  ]
}